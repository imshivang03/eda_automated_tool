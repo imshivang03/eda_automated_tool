{
 "cells": [
  {
   "cell_type": "markdown",
   "id": "af0ceeab",
   "metadata": {},
   "source": [
    "# EDA using d-tale (Automated Tool)"
   ]
  },
  {
   "cell_type": "code",
   "execution_count": 1,
   "id": "7364822f",
   "metadata": {},
   "outputs": [
    {
     "name": "stdout",
     "output_type": "stream",
     "text": [
      "Collecting dtale\n",
      "  Downloading dtale-2.9.0-py2.py3-none-any.whl (12.8 MB)\n",
      "Requirement already satisfied: scipy in c:\\users\\shiva\\anaconda3\\lib\\site-packages (from dtale) (1.7.1)\n",
      "Collecting flask-ngrok\n",
      "  Downloading flask_ngrok-0.0.25-py3-none-any.whl (3.1 kB)\n",
      "Requirement already satisfied: future>=0.14.0 in c:\\users\\shiva\\anaconda3\\lib\\site-packages (from dtale) (0.18.2)\n",
      "Requirement already satisfied: six in c:\\users\\shiva\\anaconda3\\lib\\site-packages (from dtale) (1.16.0)\n",
      "Requirement already satisfied: xlrd in c:\\users\\shiva\\anaconda3\\lib\\site-packages (from dtale) (2.0.1)\n",
      "Requirement already satisfied: requests in c:\\users\\shiva\\anaconda3\\lib\\site-packages (from dtale) (2.26.0)\n",
      "Collecting dash-daq\n",
      "  Downloading dash_daq-0.5.0.tar.gz (642 kB)\n",
      "Collecting matplotlib==3.6.0\n",
      "  Downloading matplotlib-3.6.0-cp39-cp39-win_amd64.whl (7.2 MB)\n",
      "Requirement already satisfied: certifi in c:\\users\\shiva\\anaconda3\\lib\\site-packages (from dtale) (2021.10.8)\n",
      "Requirement already satisfied: statsmodels in c:\\users\\shiva\\anaconda3\\lib\\site-packages (from dtale) (0.13.2)\n",
      "Note: you may need to restart the kernel to use updated packages.Collecting kaleido\n",
      "  Downloading kaleido-0.2.1-py2.py3-none-win_amd64.whl (65.9 MB)\n",
      "Requirement already satisfied: numpy in c:\\users\\shiva\\anaconda3\\lib\\site-packages (from dtale) (1.20.3)\n",
      "Requirement already satisfied: cycler in c:\\users\\shiva\\anaconda3\\lib\\site-packages (from dtale) (0.10.0)\n",
      "Requirement already satisfied: itsdangerous in c:\\users\\shiva\\anaconda3\\lib\\site-packages (from dtale) (2.0.1)\n",
      "Requirement already satisfied: openpyxl in c:\\users\\shiva\\anaconda3\\lib\\site-packages (from dtale) (3.0.9)\n",
      "Requirement already satisfied: et-xmlfile in c:\\users\\shiva\\anaconda3\\lib\\site-packages (from dtale) (1.1.0)\n",
      "Collecting squarify\n",
      "  Downloading squarify-0.4.3-py3-none-any.whl (4.3 kB)\n",
      "Requirement already satisfied: plotly>=5.0.0 in c:\\users\\shiva\\anaconda3\\lib\\site-packages (from dtale) (5.10.0)\n",
      "Collecting Flask-Compress\n",
      "  Downloading Flask_Compress-1.13-py3-none-any.whl (7.9 kB)\n",
      "Collecting strsimpy\n",
      "  Downloading strsimpy-0.2.1-py3-none-any.whl (45 kB)\n",
      "Collecting lz4\n",
      "  Downloading lz4-4.0.2-cp39-cp39-win_amd64.whl (98 kB)\n",
      "Requirement already satisfied: scikit-learn in c:\\users\\shiva\\anaconda3\\lib\\site-packages (from dtale) (0.24.2)\n",
      "Collecting missingno<=0.4.2\n",
      "  Downloading missingno-0.4.2-py3-none-any.whl (9.7 kB)\n",
      "Collecting dash-colorscales\n",
      "  Downloading dash_colorscales-0.0.4.tar.gz (62 kB)\n",
      "Requirement already satisfied: pandas in c:\\users\\shiva\\anaconda3\\lib\\site-packages (from dtale) (1.3.4)\n",
      "\n",
      "Collecting dash-bootstrap-components\n",
      "  Downloading dash_bootstrap_components-1.2.1-py3-none-any.whl (216 kB)\n",
      "Requirement already satisfied: seaborn in c:\\users\\shiva\\anaconda3\\lib\\site-packages (from dtale) (0.11.2)\n",
      "Collecting dash>=2.0.0\n",
      "  Downloading dash-2.7.0-py3-none-any.whl (9.9 MB)\n",
      "Requirement already satisfied: Flask in c:\\users\\shiva\\anaconda3\\lib\\site-packages (from dtale) (1.1.2)\n",
      "Requirement already satisfied: networkx in c:\\users\\shiva\\anaconda3\\lib\\site-packages (from dtale) (2.6.3)\n",
      "Collecting xarray\n",
      "  Downloading xarray-2022.11.0-py3-none-any.whl (963 kB)\n",
      "Requirement already satisfied: kiwisolver>=1.0.1 in c:\\users\\shiva\\anaconda3\\lib\\site-packages (from matplotlib==3.6.0->dtale) (1.3.1)\n",
      "Requirement already satisfied: packaging>=20.0 in c:\\users\\shiva\\anaconda3\\lib\\site-packages (from matplotlib==3.6.0->dtale) (21.3)\n",
      "Requirement already satisfied: fonttools>=4.22.0 in c:\\users\\shiva\\anaconda3\\lib\\site-packages (from matplotlib==3.6.0->dtale) (4.25.0)\n",
      "Collecting contourpy>=1.0.1\n",
      "  Downloading contourpy-1.0.6-cp39-cp39-win_amd64.whl (161 kB)\n",
      "Requirement already satisfied: python-dateutil>=2.7 in c:\\users\\shiva\\anaconda3\\lib\\site-packages (from matplotlib==3.6.0->dtale) (2.8.2)\n",
      "Requirement already satisfied: pillow>=6.2.0 in c:\\users\\shiva\\anaconda3\\lib\\site-packages (from matplotlib==3.6.0->dtale) (8.4.0)\n",
      "Requirement already satisfied: pyparsing>=2.2.1 in c:\\users\\shiva\\anaconda3\\lib\\site-packages (from matplotlib==3.6.0->dtale) (3.0.4)\n",
      "Collecting dash-core-components==2.0.0\n",
      "  Downloading dash_core_components-2.0.0-py3-none-any.whl (3.8 kB)\n",
      "Collecting dash-html-components==2.0.0\n",
      "  Downloading dash_html_components-2.0.0-py3-none-any.whl (4.1 kB)\n",
      "Collecting dash-table==5.0.0\n",
      "  Downloading dash_table-5.0.0-py3-none-any.whl (3.9 kB)\n",
      "Requirement already satisfied: Jinja2>=2.10.1 in c:\\users\\shiva\\anaconda3\\lib\\site-packages (from Flask->dtale) (2.11.3)\n",
      "Requirement already satisfied: click>=5.1 in c:\\users\\shiva\\anaconda3\\lib\\site-packages (from Flask->dtale) (8.0.3)\n",
      "Requirement already satisfied: Werkzeug>=0.15 in c:\\users\\shiva\\anaconda3\\lib\\site-packages (from Flask->dtale) (2.0.2)\n",
      "Requirement already satisfied: colorama in c:\\users\\shiva\\anaconda3\\lib\\site-packages (from click>=5.1->Flask->dtale) (0.4.4)\n"
     ]
    },
    {
     "name": "stderr",
     "output_type": "stream",
     "text": [
      "ERROR: pip's dependency resolver does not currently take into account all the packages that are installed. This behaviour is the source of the following dependency conflicts.\n",
      "pandas-profiling 3.3.0 requires matplotlib<3.6,>=3.2, but you have matplotlib 3.6.0 which is incompatible.\n"
     ]
    },
    {
     "name": "stdout",
     "output_type": "stream",
     "text": [
      "Requirement already satisfied: MarkupSafe>=0.23 in c:\\users\\shiva\\anaconda3\\lib\\site-packages (from Jinja2>=2.10.1->Flask->dtale) (1.1.1)\n",
      "Requirement already satisfied: tenacity>=6.2.0 in c:\\users\\shiva\\anaconda3\\lib\\site-packages (from plotly>=5.0.0->dtale) (8.0.1)\n",
      "Collecting brotli\n",
      "  Downloading Brotli-1.0.9-cp39-cp39-win_amd64.whl (383 kB)\n",
      "Requirement already satisfied: pytz>=2017.3 in c:\\users\\shiva\\anaconda3\\lib\\site-packages (from pandas->dtale) (2021.3)\n",
      "Requirement already satisfied: idna<4,>=2.5 in c:\\users\\shiva\\anaconda3\\lib\\site-packages (from requests->dtale) (3.2)\n",
      "Requirement already satisfied: urllib3<1.27,>=1.21.1 in c:\\users\\shiva\\anaconda3\\lib\\site-packages (from requests->dtale) (1.26.7)\n",
      "Requirement already satisfied: charset-normalizer~=2.0.0 in c:\\users\\shiva\\anaconda3\\lib\\site-packages (from requests->dtale) (2.0.4)\n",
      "Requirement already satisfied: joblib>=0.11 in c:\\users\\shiva\\anaconda3\\lib\\site-packages (from scikit-learn->dtale) (1.1.0)\n",
      "Requirement already satisfied: threadpoolctl>=2.0.0 in c:\\users\\shiva\\anaconda3\\lib\\site-packages (from scikit-learn->dtale) (2.2.0)\n",
      "Requirement already satisfied: patsy>=0.5.2 in c:\\users\\shiva\\anaconda3\\lib\\site-packages (from statsmodels->dtale) (0.5.2)\n",
      "Building wheels for collected packages: dash-colorscales, dash-daq\n",
      "  Building wheel for dash-colorscales (setup.py): started\n",
      "  Building wheel for dash-colorscales (setup.py): finished with status 'done'\n",
      "  Created wheel for dash-colorscales: filename=dash_colorscales-0.0.4-py3-none-any.whl size=62589 sha256=58c66644c40d5eca4f4b4e4e91cf41ef250ec70cfafdbbcf73ec43d2e273d00e\n",
      "  Stored in directory: c:\\users\\shiva\\appdata\\local\\pip\\cache\\wheels\\ec\\32\\ec\\dc8a1aa820182edf280a5e26c76fc9493ae29e196735708de2\n",
      "  Building wheel for dash-daq (setup.py): started\n",
      "  Building wheel for dash-daq (setup.py): finished with status 'done'\n",
      "  Created wheel for dash-daq: filename=dash_daq-0.5.0-py3-none-any.whl size=669716 sha256=3346659170834037ea30840d61699ce3096f044858c47cfae6c519f2ebaf0e5e\n",
      "  Stored in directory: c:\\users\\shiva\\appdata\\local\\pip\\cache\\wheels\\53\\73\\ea\\8a422aab5cab848d88653ed3087c1fa05553c3fbd67fb6ab75\n",
      "Successfully built dash-colorscales dash-daq\n",
      "Installing collected packages: contourpy, matplotlib, dash-table, dash-html-components, dash-core-components, dash, brotli, xarray, strsimpy, squarify, missingno, lz4, kaleido, flask-ngrok, Flask-Compress, dash-daq, dash-colorscales, dash-bootstrap-components, dtale\n",
      "  Attempting uninstall: matplotlib\n",
      "    Found existing installation: matplotlib 3.4.3\n",
      "    Uninstalling matplotlib-3.4.3:\n",
      "      Successfully uninstalled matplotlib-3.4.3\n",
      "  Attempting uninstall: missingno\n",
      "    Found existing installation: missingno 0.5.1\n",
      "    Uninstalling missingno-0.5.1:\n",
      "      Successfully uninstalled missingno-0.5.1\n",
      "Successfully installed Flask-Compress-1.13 brotli-1.0.9 contourpy-1.0.6 dash-2.7.0 dash-bootstrap-components-1.2.1 dash-colorscales-0.0.4 dash-core-components-2.0.0 dash-daq-0.5.0 dash-html-components-2.0.0 dash-table-5.0.0 dtale-2.9.0 flask-ngrok-0.0.25 kaleido-0.2.1 lz4-4.0.2 matplotlib-3.6.0 missingno-0.4.2 squarify-0.4.3 strsimpy-0.2.1 xarray-2022.11.0\n"
     ]
    }
   ],
   "source": [
    "pip install dtale"
   ]
  },
  {
   "cell_type": "code",
   "execution_count": 2,
   "id": "7f4f1a2f",
   "metadata": {},
   "outputs": [],
   "source": [
    "import pandas as pd\n",
    "import dtale"
   ]
  },
  {
   "cell_type": "code",
   "execution_count": 3,
   "id": "1ca0bf30",
   "metadata": {},
   "outputs": [],
   "source": [
    "df= pd.read_csv(\"E://Technical//DS_AI_ML//ineuron_internship//eda&feature_engineering_learning//dataset/data0//aug_test.csv\")"
   ]
  },
  {
   "cell_type": "code",
   "execution_count": 7,
   "id": "568679d3",
   "metadata": {},
   "outputs": [],
   "source": [
    "report= dtale.show(df)"
   ]
  },
  {
   "cell_type": "code",
   "execution_count": 8,
   "id": "60350e84",
   "metadata": {},
   "outputs": [
    {
     "data": {
      "text/html": [
       "\n",
       "        <iframe\n",
       "            width=\"100%\"\n",
       "            height=\"475\"\n",
       "            src=\"http://DESKTOP-27CDQNM:40000/dtale/iframe/2\"\n",
       "            frameborder=\"0\"\n",
       "            allowfullscreen\n",
       "            \n",
       "        ></iframe>\n",
       "        "
      ],
      "text/plain": [
       "<IPython.lib.display.IFrame at 0x24d95fdbaf0>"
      ]
     },
     "metadata": {},
     "output_type": "display_data"
    },
    {
     "data": {
      "text/plain": []
     },
     "execution_count": 8,
     "metadata": {},
     "output_type": "execute_result"
    }
   ],
   "source": [
    "report"
   ]
  }
 ],
 "metadata": {
  "kernelspec": {
   "display_name": "Python 3 (ipykernel)",
   "language": "python",
   "name": "python3"
  },
  "language_info": {
   "codemirror_mode": {
    "name": "ipython",
    "version": 3
   },
   "file_extension": ".py",
   "mimetype": "text/x-python",
   "name": "python",
   "nbconvert_exporter": "python",
   "pygments_lexer": "ipython3",
   "version": "3.9.7"
  }
 },
 "nbformat": 4,
 "nbformat_minor": 5
}
